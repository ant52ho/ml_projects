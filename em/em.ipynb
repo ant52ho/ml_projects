{
 "cells": [
  {
   "cell_type": "markdown",
   "metadata": {},
   "source": [
    "# Expectation maximization\n"
   ]
  },
  {
   "cell_type": "code",
   "execution_count": null,
   "metadata": {},
   "outputs": [],
   "source": [
    "import numpy as np"
   ]
  },
  {
   "cell_type": "code",
   "execution_count": 3,
   "metadata": {},
   "outputs": [],
   "source": [
    "# load data\n",
    "def get_train_data():\n",
    "    train_data = []\n",
    "    with open(\"traindata.txt\", \"r\") as file:\n",
    "        for line in file:\n",
    "            values = list(map(int, line.split()))\n",
    "\n",
    "            train_data.append(values.copy())\n",
    "\n",
    "    # return last col for feature vals\n",
    "    return np.asarray(train_data, dtype=np.float64)\n",
    "\n",
    "def get_test_data():\n",
    "    test_data = []\n",
    "    with open('testdata.txt', 'r') as file:\n",
    "        for line in file:\n",
    "            values = list(map(int, line.split()))\n",
    "\n",
    "            test_data.append(values)\n",
    "\n",
    "    return np.asarray(test_data, dtype=np.float32)"
   ]
  },
  {
   "cell_type": "code",
   "execution_count": null,
   "metadata": {},
   "outputs": [],
   "source": [
    "from itertools import product\n",
    "class EM:\n",
    "    def __init__(self):\n",
    "        self.xs = [0, 1, 2]\n",
    "        self.ss= [0, 1]\n",
    "        self.fs = [0, 1]\n",
    "        self.ds = [0, 1]\n",
    "        self.gs = [0, 1]\n",
    "\n",
    "        self.pxt = {0: 0.5, 1: 0.25, 2: 0.25}\n",
    "        self.pgt = {0: 0.9, 1: 0.1}\n",
    "        self.psgxt = {\n",
    "            0: {0: 0.02, 1: 0.8, 2: 0.8},\n",
    "            1: {0: 0.01, 1: 0.1, 2: 0.1}\n",
    "        }\n",
    "        self.pfxt = {0: 0.02, 1: 0.85, 2: 0.60}\n",
    "        self.pdxt = {0: 0.02, 1: 0.60, 2: 0.85}\n",
    "\n",
    "        # construct probability table \n",
    "        self.p_table = self.construct_em_tbl()\n",
    "        self.it_total_prev = -1\n",
    "\n",
    "    def shuffle_noises(self, delta):\n",
    "        ds = [self.pxt, self.pgt, self.psgxt[0], self.psgxt[1], self.pfxt, self.pdxt]\n",
    "        for d in ds:\n",
    "            self.add_noise(d, delta)\n",
    "    \n",
    "    def add_noise(self, d, delta):\n",
    "        rand = [np.random.uniform(0, delta) for _ in d.keys()]\n",
    "        total = np.sum(rand)\n",
    "\n",
    "        keys = list(d.keys())\n",
    "        for i in range(len(keys)):\n",
    "            d[keys[i]] = (d[keys[i]] + rand[i]) / (1 + total)\n",
    "    \n",
    "    def construct_em_tbl(self):\n",
    "        '''\n",
    "        Returns the table of probabilities \n",
    "        '''\n",
    "        res = []\n",
    "        for s, f, d, g in list(product(self.ss, self.fs, self.ds, self.gs)):\n",
    "            total_pxgsfd = 0\n",
    "            temp = []\n",
    "            for x in self.xs:\n",
    "                psgx = s * self.psgxt[g][x] + (1 - s) * (1 - self.psgxt[g][x])\n",
    "                pfx = f * self.pfxt[x] + (1 - f) * (1 - self.pfxt[x])\n",
    "                pdx = d * self.pdxt[x] + (1 - d) * (1 - self.pdxt[x])\n",
    "                pg = self.pgt[g]\n",
    "                px = self.pxt[x]\n",
    "                pxgsfd = px * pg * psgx * pfx * pdx\n",
    "                total_pxgsfd += pxgsfd\n",
    "\n",
    "                # last el is placeholder\n",
    "                temp.append([s, f, d, g, x, px, pg, psgx, pfx, pdx, pxgsfd, -1])\n",
    "            \n",
    "            # normalize vs total \n",
    "            for t in range(len(temp)):\n",
    "                temp[t][-1] = temp[t][-2] / total_pxgsfd\n",
    "\n",
    "            res = res + temp\n",
    "\n",
    "        return np.asarray(res, dtype=np.float64)\n",
    "    \n",
    "    def train(self, train_data):\n",
    "        while True:\n",
    "            self.p_table = self.construct_em_tbl()\n",
    "\n",
    "            res = []\n",
    "            for d in train_data:\n",
    "                # get corresponding row in tbl\n",
    "                match_idx = np.where(np.all(self.p_table[:, :4] == d[:4], axis=1))\n",
    "                match = self.p_table[match_idx]\n",
    "\n",
    "                if d[-1] != -1:\n",
    "                    match[:, -1] = 0\n",
    "                    match[match[:, 4] == d[-1], -1] = 1 \n",
    "\n",
    "                # s, f, d, g, x, pxgsfd, fin\n",
    "                select_cols = [0, 1, 2, 3, 4, 10, 11]\n",
    "                res += match[:, select_cols].tolist()\n",
    "\n",
    "\n",
    "            res = np.asarray(res)\n",
    "            it_total = np.sum(res[:, -2])\n",
    "\n",
    "            if it_total and abs(it_total - self.it_total_prev) < 0.01:\n",
    "                break\n",
    "            else:\n",
    "                self.it_total_prev = it_total\n",
    "\n",
    "            # update x weights\n",
    "            for i in self.xs:\n",
    "                xupdate = res[res[:, 4] == i]\n",
    "                self.pxt[i] = np.sum(xupdate[:, -1]) / np.sum(res[:, -1])\n",
    "            \n",
    "            # update g weights\n",
    "            for i in self.gs:\n",
    "                gupdate = res[res[:, 3] == i]\n",
    "                self.pgt[i] = np.sum(gupdate[:, -1]) / np.sum(res[:, -1])\n",
    "            \n",
    "            # update s weights\n",
    "            for g in self.psgxt:\n",
    "                for x in self.psgxt[g]:\n",
    "                    s_total = res[(res[:, 3] == g) & (res[:, 4] == x)]\n",
    "                    s_frac = s_total[s_total[:, 0] == 1] # assume s is true\n",
    "                    self.psgxt[g][x] = np.sum(s_frac[:, -1]) / np.sum(s_total[:, -1])\n",
    "\n",
    "            # update f weights \n",
    "            for x in self.pfxt:\n",
    "                f_total = res[res[:, 4] == x]\n",
    "                f_frac = f_total[f_total[:, 1] == 1] # assume f is true\n",
    "                self.pfxt[x] = np.sum(f_frac[:, -1]) / np.sum(f_total[:, -1])\n",
    "            \n",
    "            # update d weights \n",
    "            for x in self.pdxt:\n",
    "                d_total = res[res[:, 4] == x]\n",
    "                d_frac = d_total[d_total[:, 2] == 1] # assume d is true\n",
    "                self.pdxt[x] = np.sum(d_frac[:, -1]) / np.sum(d_total[:, -1])\n",
    "\n",
    "    def predict(self, test_data):\n",
    "        res = []\n",
    "        self.p_table = self.construct_em_tbl()\n",
    "        for feature in test_data:\n",
    "            match = np.where(np.all(self.p_table[:, :4] == feature, axis=1))\n",
    "            res.append(np.argmax(self.p_table[match][:, -1]))\n",
    "        return np.asarray(res)\n",
    "\n",
    "em = EM()\n",
    "probs = em.construct_em_tbl()"
   ]
  },
  {
   "cell_type": "code",
   "execution_count": null,
   "metadata": {},
   "outputs": [
    {
     "data": {
      "text/plain": [
       "0.93"
      ]
     },
     "execution_count": 18,
     "metadata": {},
     "output_type": "execute_result"
    }
   ],
   "source": [
    "    em = EM()\n",
    "    train_data = get_train_data()\n",
    "    em.train(train_data)\n",
    "    test_data = get_test_data()\n",
    "    features = test_data[:, :4]\n",
    "    target = test_data[:, 4]\n",
    "    res = em.predict(features)\n",
    "    np.sum(np.asarray(res) == target) / len(target)"
   ]
  },
  {
   "cell_type": "markdown",
   "metadata": {},
   "source": [
    "# 2. add noise and do 20 trials\n"
   ]
  },
  {
   "cell_type": "code",
   "execution_count": 19,
   "metadata": {},
   "outputs": [
    {
     "name": "stderr",
     "output_type": "stream",
     "text": [
      "100%|██████████| 20/20 [14:17<00:00, 42.87s/it]\n"
     ]
    }
   ],
   "source": [
    "from tqdm import tqdm \n",
    "\n",
    "train_data = get_train_data()\n",
    "test_data = get_test_data()\n",
    "features = test_data[:, :4]\n",
    "target = test_data[:, 4]\n",
    "\n",
    "deltas = np.linspace(0, 4, 20)\n",
    "iters = 20\n",
    "res = []\n",
    "for delta in tqdm(deltas):\n",
    "    for i in tqdm(range(iters), leave=False):\n",
    "        em = EM()\n",
    "        em.shuffle_noises(delta)\n",
    "        pre_em_preds = em.predict(features)\n",
    "        pre_em_acc = np.sum(np.asarray(pre_em_preds) == target) / len(target)\n",
    "        em.train(train_data)\n",
    "        preds = em.predict(features)\n",
    "        acc = np.sum(np.asarray(preds) == target) / len(target)\n",
    "        res.append({\"delta\": delta, \"iter\": i, \"em_acc\": acc, \"pre_em_acc\": pre_em_acc})"
   ]
  },
  {
   "cell_type": "code",
   "execution_count": 20,
   "metadata": {},
   "outputs": [],
   "source": [
    "import pandas as pd\n",
    "df = pd.DataFrame(res)"
   ]
  },
  {
   "cell_type": "code",
   "execution_count": 22,
   "metadata": {},
   "outputs": [],
   "source": [
    "df_temp = df.groupby(by=['delta']).agg(['mean', 'std'])"
   ]
  },
  {
   "cell_type": "code",
   "execution_count": 26,
   "metadata": {},
   "outputs": [
    {
     "data": {
      "image/png": "[encoded data removed]",
      "text/plain": [
       "<Figure size 640x480 with 1 Axes>"
      ]
     },
     "metadata": {},
     "output_type": "display_data"
    }
   ],
   "source": [
    "import matplotlib.pyplot as plt\n",
    "\n",
    "# plt.plot(deltas, df_temp[('em_acc', 'mean')])\n",
    "plt.errorbar(deltas, df_temp[('em_acc', 'mean')], yerr=df_temp[('em_acc', 'std')], capsize=4, label='EM')\n",
    "plt.errorbar(deltas, df_temp[('pre_em_acc', 'mean')], yerr=df_temp[('pre_em_acc', 'std')], capsize=4, label='No EM')\n",
    "plt.title(\"EM vs. No EM\")\n",
    "plt.xlabel(\"Delta\")\n",
    "plt.ylabel(\"Accuracy\")\n",
    "plt.legend()\n",
    "plt.show()"
   ]
  },
  {
   "cell_type": "code",
   "execution_count": 25,
   "metadata": {},
   "outputs": [
    {
     "data": {
      "text/plain": [
       "delta\n",
       "0.000000    0.9300\n",
       "0.210526    0.9235\n",
       "0.421053    0.9245\n",
       "0.631579    0.9010\n",
       "0.842105    0.9220\n",
       "1.052632    0.9030\n",
       "1.263158    0.9250\n",
       "1.473684    0.9245\n",
       "1.684211    0.8555\n",
       "1.894737    0.8995\n",
       "2.105263    0.7875\n",
       "2.315789    0.8550\n",
       "2.526316    0.8570\n",
       "2.736842    0.8320\n",
       "2.947368    0.8725\n",
       "3.157895    0.8070\n",
       "3.368421    0.8090\n",
       "3.578947    0.7585\n",
       "3.789474    0.8545\n",
       "4.000000    0.8335\n",
       "Name: (em_acc, mean), dtype: float64"
      ]
     },
     "execution_count": 25,
     "metadata": {},
     "output_type": "execute_result"
    }
   ],
   "source": [
    "df_temp[('em_acc', 'mean')]"
   ]
  }
 ],
 "metadata": {
  "kernelspec": {
   "display_name": "Python 3",
   "language": "python",
   "name": "python3"
  },
  "language_info": {
   "codemirror_mode": {
    "name": "ipython",
    "version": 3
   },
   "file_extension": ".py",
   "mimetype": "text/x-python",
   "name": "python",
   "nbconvert_exporter": "python",
   "pygments_lexer": "ipython3",
   "version": "3.11.3"
  }
 },
 "nbformat": 4,
 "nbformat_minor": 2
}
