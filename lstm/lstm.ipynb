{
 "cells": [
  {
   "cell_type": "markdown",
   "id": "2e0d388f",
   "metadata": {},
   "source": [
    "An LSTM model using the PyTorch library applied onto the Mackey-Glass dataset.\n"
   ]
  },
  {
   "cell_type": "code",
   "execution_count": 1,
   "id": "1373cab7",
   "metadata": {},
   "outputs": [],
   "source": [
    "import matplotlib.pyplot as plt\n",
    "import numpy as np\n",
    "import pandas as pd\n",
    "mgdf = pd.read_csv('mackey_glass.csv')"
   ]
  },
  {
   "cell_type": "code",
   "execution_count": 870,
   "id": "fe78b19b",
   "metadata": {},
   "outputs": [],
   "source": [
    "import torch.optim as optim\n",
    "import torch.utils.data as data\n",
    "import torch.nn as nn\n",
    "\n",
    "class TimeSeriesDataset(data.Dataset):\n",
    "    def __init__(self, data, lookback=1):\n",
    "        self.data = torch.from_numpy(data.astype(np.float32))\n",
    "        self.lookback = lookback\n",
    "\n",
    "    def __len__(self):\n",
    "        return len(self.data) - self.lookback\n",
    "    \n",
    "    def __getitem__(self, idx):\n",
    "        x = self.data[idx: idx + self.lookback, 1]\n",
    "        y = self.data[idx + self.lookback, 1]\n",
    "        return x, y\n",
    "\n",
    "class LSTM(nn.Module):\n",
    "    def __init__(self, input_size=1, hidden_size=1, num_layers=1, output_size=1):\n",
    "        super(LSTM, self).__init__()\n",
    "        self.hidden_size = hidden_size\n",
    "        self.num_layers = num_layers\n",
    "\n",
    "        self.lstm = nn.LSTM(input_size, hidden_size)\n",
    "        self.lin = nn.Linear(hidden_size, output_size)\n",
    "    \n",
    "    def forward(self, x):\n",
    "        out, _ = self.lstm(x)\n",
    "        out = self.lin(out)\n",
    "        return out"
   ]
  },
  {
   "cell_type": "code",
   "execution_count": 873,
   "id": "2e327883",
   "metadata": {},
   "outputs": [
    {
     "name": "stderr",
     "output_type": "stream",
     "text": [
      "Training progress: 100%|██████████| 2000/2000 [1:25:39<00:00,  2.57s/it]   \n"
     ]
    }
   ],
   "source": [
    "dataset = mgdf.values\n",
    "p1, p2 = int(len(mgdf) * 0.4), int(len(mgdf) * 0.8)\n",
    "train_set, val_set, test_set = dataset[:p1], dataset[p1:p2], dataset[p2:]\n",
    "\n",
    "train_loader = DataLoader(TimeSeriesDataset(train_set))\n",
    "val_loader = DataLoader(TimeSeriesDataset(val_set))\n",
    "test_loader = DataLoader(TimeSeriesDataset(test_set))\n",
    "\n",
    "model = LSTM()\n",
    "criterion = nn.MSELoss()\n",
    "optimizer = optim.Adam(model.parameters(), lr=0.001)\n",
    "\n",
    "EPOCHS = 2000\n",
    "train_rmse = []\n",
    "val_rmse = []\n",
    "train_losses = []\n",
    "val_losses = []\n",
    "\n",
    "# for i in range(20):\n",
    "for i in tqdm(range(EPOCHS), desc=\"Training progress\"):\n",
    "    train_preds, train_ys = [], []\n",
    "    model.train()\n",
    "    train_loss = 0\n",
    "    for X, y in train_loader: \n",
    "        preds = model(X)\n",
    "        loss = criterion(preds, y)\n",
    "        optimizer.zero_grad()\n",
    "        loss.backward()\n",
    "        optimizer.step()\n",
    "        train_loss += loss.item()\n",
    "        \n",
    "        train_preds.append(preds.detach().numpy())\n",
    "        train_ys.append(y.detach().numpy())\n",
    "\n",
    "    train_losses.append(train_loss / len(train_loader))\n",
    "    \n",
    "    val_preds, val_ys = [], []\n",
    "    model.eval()\n",
    "    val_loss = 0\n",
    "    for X, y in val_loader:\n",
    "        preds = model(X)\n",
    "        loss = criterion(preds, y)\n",
    "        val_loss += loss.item()\n",
    "        val_preds.append(preds.detach().numpy())\n",
    "        val_ys.append(y.detach().numpy())\n",
    "\n",
    "    val_losses.append(val_loss / len(val_loader))\n",
    "    \n",
    "    # print(np.sqrt((((np.asarray(train_ys) - np.asarray(train_preds)) ** 2).mean())))\n",
    "    # print((train_loss / len(train_loader)) ** 0.5)\n",
    "    if i % 100 == 0:\n",
    "        train_rmse.append((train_loss / len(train_loader)) ** 0.5)\n",
    "        val_rmse.append((val_loss / len(val_loader)) ** 0.5)\n",
    "        \n",
    "    # checkpointing\n",
    "    if min_val_loss == None or val_loss < min_val_loss:\n",
    "        min_val_loss = val_loss\n",
    "        torch.save(model.state_dict(), 'lstm.pth')\n",
    "    "
   ]
  },
  {
   "cell_type": "code",
   "execution_count": 927,
   "id": "1f897871",
   "metadata": {},
   "outputs": [
    {
     "data": {
      "image/png": "[encoded data removed]",
      "text/plain": [
       "<Figure size 640x480 with 1 Axes>"
      ]
     },
     "metadata": {},
     "output_type": "display_data"
    }
   ],
   "source": [
    "plt.plot(val_rmse, label='Validation RMSE')\n",
    "plt.plot(train_rmse, label='Train RMSE')\n",
    "plt.title(\"LSTM Train vs. Validation\")\n",
    "plt.legend()\n",
    "plt.show()"
   ]
  }
 ],
 "metadata": {
  "kernelspec": {
   "display_name": "Python 3",
   "language": "python",
   "name": "python3"
  },
  "language_info": {
   "codemirror_mode": {
    "name": "ipython",
    "version": 3
   },
   "file_extension": ".py",
   "mimetype": "text/x-python",
   "name": "python",
   "nbconvert_exporter": "python",
   "pygments_lexer": "ipython3",
   "version": "3.11.3"
  }
 },
 "nbformat": 4,
 "nbformat_minor": 5
}
