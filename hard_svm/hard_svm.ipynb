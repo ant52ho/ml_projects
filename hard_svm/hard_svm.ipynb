{
 "cells": [
  {
   "cell_type": "markdown",
   "metadata": {},
   "source": [
    "# Hard margin SVM from scratch\n"
   ]
  },
  {
   "cell_type": "markdown",
   "metadata": {},
   "source": [
    "Implementing\n",
    "\n",
    "$$\n",
    "\\max_{\\lambda} \\left( \\sum_{i=1}^{n} \\lambda_i - \\frac{1}{2} \\sum_{i=1}^{n} \\sum_{j=1}^{n} \\lambda_i \\lambda_j y_i y_j \\langle x_i, x_j \\rangle \\right),\n",
    "$$\n",
    "\n",
    "subject to:\n",
    "\n",
    "$$\n",
    "\\lambda_i \\geq 0 \\;\\ \\forall i, \\quad \\text{and} \\;\\ \\sum_{i=1}^{n} \\lambda_i y_i = 0,\n",
    "$$\n"
   ]
  },
  {
   "cell_type": "code",
   "execution_count": 5,
   "metadata": {},
   "outputs": [],
   "source": [
    "import pandas as pd\n",
    "import numpy as np\n",
    "from sklearn.preprocessing import StandardScaler\n",
    "import cvxpy as cp\n"
   ]
  },
  {
   "cell_type": "code",
   "execution_count": 4,
   "metadata": {},
   "outputs": [],
   "source": [
    "# preprocessing\n",
    "df = pd.read_csv(\"iris.csv\")\n",
    "df.loc[df['variety'] == 'Setosa', 'target'] = 1\n",
    "df.loc[df['variety'] != 'Setosa', 'target'] = -1\n",
    "\n",
    "df = df.sample(frac=1)\n",
    "idx66 = int(len(df) * 0.66)\n",
    "df_train = df[:idx66]\n",
    "df_test = df[idx66:]\n",
    "len(df_train), len(df_test)\n",
    "\n",
    "df_X_train = df_train[['sepal.length', 'sepal.width', 'petal.length', 'petal.width']]\n",
    "df_y_train = df_train[['target']]\n",
    "\n",
    "df_X_test = df_test[['sepal.length', 'sepal.width', 'petal.length', 'petal.width']]\n",
    "df_y_test = df_test[['target']]\n",
    "\n",
    "# scale\n",
    "scaler = StandardScaler()\n",
    "df_X_train = scaler.fit_transform(df_X_train)\n",
    "df_X_test = scaler.transform(df_X_test)"
   ]
  },
  {
   "cell_type": "code",
   "execution_count": 6,
   "metadata": {},
   "outputs": [],
   "source": [
    "n = len(df_train)\n",
    "l = cp.Variable(n)\n",
    "vals = (df_y_train.values * df_X_train) @ (df_y_train.T.values * df_X_train.T)\n",
    "\n",
    "# regularize\n",
    "epsilon = 1e-5\n",
    "vals = vals + epsilon * np.eye(vals.shape[0])\n",
    "term = cp.quad_form(l, vals)\n",
    "objective = cp.Maximize(cp.sum(l) - 0.5 * term)\n",
    "constraints = [l >= 0, cp.sum(cp.multiply(l, df_y_train.values.flatten())) == 0]\n",
    "prob = cp.Problem(objective, constraints)\n",
    "\n",
    "result = prob.solve()"
   ]
  },
  {
   "cell_type": "code",
   "execution_count": 7,
   "metadata": {},
   "outputs": [],
   "source": [
    "# get weights\n",
    "lambdas = constraints[0].dual_value\n",
    "weights = np.sum(lambdas[:, np.newaxis] * df_y_train.values * df_X_train, axis=0)\n",
    "\n",
    "# get bias  - from support idx\n",
    "df_support = lambdas[:, np.newaxis] * df_y_train.values * df_X_train\n",
    "\n",
    "support_idx = np.all(df_support != 0, axis=1)\n",
    "bias = np.mean(df_y_train[support_idx].values.flatten() - np.dot(df_X_train[support_idx], weights))"
   ]
  },
  {
   "cell_type": "code",
   "execution_count": 8,
   "metadata": {},
   "outputs": [
    {
     "name": "stdout",
     "output_type": "stream",
     "text": [
      "[[26  6]\n",
      " [ 0 19]]\n",
      "ROC AUC Score: 0.90625\n"
     ]
    }
   ],
   "source": [
    "from sklearn.metrics import roc_auc_score, confusion_matrix\n",
    "\n",
    "def pred(X, weights, bias):\n",
    "    preds = weights @ X.T + bias\n",
    "    res = np.where(preds > 0, 1, -1)\n",
    "    return res \n",
    "\n",
    "\n",
    "preds = pred(df_X_test, weights, bias)\n",
    "\n",
    "cm = confusion_matrix(df_y_test, preds)\n",
    "print(cm)\n",
    "\n",
    "roc_auc = roc_auc_score(df_y_test, preds)\n",
    "print(f\"ROC AUC Score: {roc_auc}\")"
   ]
  }
 ],
 "metadata": {
  "kernelspec": {
   "display_name": "Python 3",
   "language": "python",
   "name": "python3"
  },
  "language_info": {
   "codemirror_mode": {
    "name": "ipython",
    "version": 3
   },
   "file_extension": ".py",
   "mimetype": "text/x-python",
   "name": "python",
   "nbconvert_exporter": "python",
   "pygments_lexer": "ipython3",
   "version": "3.11.3"
  }
 },
 "nbformat": 4,
 "nbformat_minor": 2
}
