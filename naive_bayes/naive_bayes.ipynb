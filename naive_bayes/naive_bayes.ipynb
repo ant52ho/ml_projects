{
 "cells": [
  {
   "cell_type": "markdown",
   "metadata": {},
   "source": [
    "# Naive bayes from scratch\n"
   ]
  },
  {
   "cell_type": "code",
   "execution_count": 2,
   "metadata": {},
   "outputs": [],
   "source": [
    "import numpy as np\n",
    "import pandas as pd\n",
    "import heapq\n",
    "import math"
   ]
  },
  {
   "cell_type": "code",
   "execution_count": 4,
   "metadata": {},
   "outputs": [],
   "source": [
    "class BayesModel:\n",
    "    def __init__(self):\n",
    "        self.words = {}\n",
    "        with open('data/words.txt', 'r') as f:\n",
    "            for i, j in enumerate(f, 1):\n",
    "                self.words[i] = j.strip()\n",
    "        \n",
    "\n",
    "        self.train_labels = {}\n",
    "        self.train_data = {}\n",
    "        self.pw1c1 = {}\n",
    "        self.pw1c0 = {}\n",
    "        self.pc1 = None\n",
    "            \n",
    "    def train(self, train_labels, train_data):\n",
    "        self.train_labels = train_labels\n",
    "        self.train_data = train_data\n",
    "\n",
    "        # get constants first \n",
    "        # P(C = 1), 1: atheist. 0: books\n",
    "        self.atheism = []\n",
    "        self.books = []\n",
    "        for key, label in self.train_labels.items():\n",
    "            if key not in self.train_data:\n",
    "                continue\n",
    "            if label == 1: # atheism\n",
    "                self.atheism.append(key)\n",
    "            elif label == 2: \n",
    "                self.books.append(key)\n",
    "        \n",
    "        self.pc1 = len(self.atheism) / (len(self.atheism) + len(self.books))\n",
    "\n",
    "        # P(word = 1 | C = 1), or, doc contains word?, with laplace\n",
    "        for word in self.words:\n",
    "            count = 0\n",
    "            for ath_idx in self.atheism:\n",
    "                if word in self.train_data[ath_idx]:\n",
    "                    count += 1\n",
    "            self.pw1c1[word] = (count + 1) / (len(self.atheism) + 2)\n",
    "\n",
    "\n",
    "        # P(word = 1 | C = 0), with laplace\n",
    "        for word in self.words:\n",
    "            count = 0\n",
    "            for book_idx in self.books:\n",
    "                if word in self.train_data[book_idx]:\n",
    "                    count += 1\n",
    "            self.pw1c0[word] = (count + 1) / (len(self.books) + 2)\n",
    "        \n",
    "    def predict(self, test_data: dict):\n",
    "        # implementing P(a1. a2, ... | c = 1)P(c=1)\n",
    "        res = {}\n",
    "        for doc, doc_words in test_data.items():\n",
    "            pc1 = math.log(self.pc1)\n",
    "            pc0 = math.log(1 - self.pc1)\n",
    "            # pc1 = self.pc1\n",
    "            # pc0 = 1 - self.pc1\n",
    "\n",
    "            for word in self.words:\n",
    "                m = 1 if word in doc_words else 0\n",
    "                pc1 = pc1 + (m * np.log2(self.pw1c1[word]) + (1 - m) * np.log2(1 - self.pw1c1[word]))\n",
    "                pc0 = pc0 + (m * np.log2(self.pw1c0[word]) + (1 - m) * np.log2(1 - self.pw1c0[word]))\n",
    "                # pc1 = pc1 * (self.pw1c1[word] ** m * (1 - self.pw1c1[word])** (1-m)) \n",
    "                # pc0 = pc0 * (self.pw1c0[word] ** m * (1 - self.pw1c0[word])** (1-m)) \n",
    "\n",
    "            if pc1 > pc0:\n",
    "                res[doc] = 1\n",
    "            else: \n",
    "                res[doc] = 2\n",
    "        \n",
    "        return res\n",
    "\n",
    "b = BayesModel()"
   ]
  },
  {
   "cell_type": "code",
   "execution_count": 5,
   "metadata": {},
   "outputs": [],
   "source": [
    "# parsing input data\n",
    "train_labels = {}\n",
    "with open('data/trainLabel.txt', 'r') as f:\n",
    "    for i, j in enumerate(f, 1):\n",
    "        train_labels[i] = int(j)\n",
    "\n",
    "test_labels = {}\n",
    "with open('data/testLabel.txt', 'r') as f:\n",
    "    for i, j in enumerate(f, 1):\n",
    "        test_labels[i] = int(j)\n",
    "\n",
    "train_data = {}\n",
    "word_to_doc = {}\n",
    "with open('data/trainData.txt', 'r') as f:\n",
    "    for i, j in enumerate(f, 1):\n",
    "        doc, word = (j.split('\\t'))\n",
    "        word = word.strip()\n",
    "        temp = train_data.get(int(doc), set())\n",
    "        temp.add(int(word))\n",
    "        train_data[int(doc)] = temp\n",
    "        temp = word_to_doc.get(int(word), set())\n",
    "        temp.add(int(doc))\n",
    "        word_to_doc[int(word)] = temp\n",
    "\n",
    "test_data = {}\n",
    "with open('data/testData.txt', 'r') as f:\n",
    "    for i, j in enumerate(f, 1):\n",
    "        doc, word = (j.split('\\t'))\n",
    "        word = word.strip()\n",
    "        temp = test_data.get(int(doc), set())\n",
    "        temp.add(int(word))\n",
    "        test_data[int(doc)] = temp"
   ]
  },
  {
   "cell_type": "code",
   "execution_count": 6,
   "metadata": {},
   "outputs": [],
   "source": [
    "b.train(train_labels, train_data)"
   ]
  },
  {
   "cell_type": "code",
   "execution_count": 7,
   "metadata": {},
   "outputs": [],
   "source": [
    "train_preds = b.predict(train_data)\n",
    "test_preds = b.predict(test_data)"
   ]
  },
  {
   "cell_type": "code",
   "execution_count": 8,
   "metadata": {},
   "outputs": [
    {
     "name": "stdout",
     "output_type": "stream",
     "text": [
      "Train accuracy: 0.9283018867924528\n",
      "Test accuracy: 0.8896746817538896\n"
     ]
    }
   ],
   "source": [
    "def calc_acc(preds, labels):\n",
    "    df = pd.DataFrame(list(preds.items()))\n",
    "    df_true = pd.DataFrame(list(labels.items()))\n",
    "    res = pd.merge(df, df_true, left_on=0, right_on=0, how='left')\n",
    "    return len(res.loc[res[\"1_x\"] == res['1_y']]) / len(res)\n",
    "\n",
    "print(f\"Train accuracy: {calc_acc(train_preds, train_labels)}\")\n",
    "print(f\"Test accuracy: {calc_acc(test_preds, test_labels)}\")\n"
   ]
  },
  {
   "cell_type": "code",
   "execution_count": null,
   "metadata": {},
   "outputs": [],
   "source": []
  }
 ],
 "metadata": {
  "kernelspec": {
   "display_name": "Python 3",
   "language": "python",
   "name": "python3"
  },
  "language_info": {
   "codemirror_mode": {
    "name": "ipython",
    "version": 3
   },
   "file_extension": ".py",
   "mimetype": "text/x-python",
   "name": "python",
   "nbconvert_exporter": "python",
   "pygments_lexer": "ipython3",
   "version": "3.11.3"
  }
 },
 "nbformat": 4,
 "nbformat_minor": 2
}
